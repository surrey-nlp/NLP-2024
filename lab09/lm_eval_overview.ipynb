{
  "cells": [
    {
      "cell_type": "markdown",
      "metadata": {
        "id": "Qw83KAePAhaS"
      },
      "source": [
        "# Lab 09 - LLM Evaluation using lm-evaluation-harness"
      ]
    },
    {
      "cell_type": "markdown",
      "metadata": {
        "id": "Z7k2vq1iAdqr"
      },
      "source": [
        "With the vast amount of work done in the LLM domain today, it helps to have a tool that people can use easily to share their results and use to check others to ensure reported numbers are valid. The LM Evaluation Harness is one such tool the community has used extensively. We want to continue to support the community and with that in mind, we’re excited to announce a major update on the LM Evaluation Harness to further our goal for open and accessible AI research.\n",
        "\n",
        "This library allows you to evaluate pre-trained language models on over 60 standard academic benchmarks, with hundreds of subtasks and variants implemented. Moreover, it has direct integration with Huggingface's datasets and Transformers APIs, making it extremely simple to use open source models and data for these evaluations."
      ]
    },
    {
      "cell_type": "markdown",
      "metadata": {
        "id": "zAov81vTbL2K"
      },
      "source": [
        "## Install LM-Eval"
      ]
    },
    {
      "cell_type": "code",
      "execution_count": null,
      "metadata": {
        "colab": {
          "base_uri": "https://localhost:8080/"
        },
        "id": "8hiosGzq_qZg",
        "outputId": "adb0b342-eac7-4071-f0c8-c7b30f9fc421"
      },
      "outputs": [
        {
          "name": "stdout",
          "output_type": "stream",
          "text": [
            "Collecting git+https://github.com/EleutherAI/lm-evaluation-harness.git@big-refactor\n",
            "  Cloning https://github.com/EleutherAI/lm-evaluation-harness.git (to revision big-refactor) to /tmp/pip-req-build-drlpjifd\n",
            "  Running command git clone --filter=blob:none --quiet https://github.com/EleutherAI/lm-evaluation-harness.git /tmp/pip-req-build-drlpjifd\n",
            "  Running command git checkout -b big-refactor --track origin/big-refactor\n",
            "  Switched to a new branch 'big-refactor'\n",
            "  Branch 'big-refactor' set up to track remote branch 'big-refactor' from 'origin'.\n",
            "  Resolved https://github.com/EleutherAI/lm-evaluation-harness.git to commit 967eb4fa90b80ba4e8cc7a2fd171f44f0e384808\n",
            "  Installing build dependencies ... \u001b[?25l\u001b[?25hdone\n",
            "  Getting requirements to build wheel ... \u001b[?25l\u001b[?25hdone\n",
            "  Preparing metadata (pyproject.toml) ... \u001b[?25l\u001b[?25hdone\n",
            "Collecting accelerate>=0.21.0 (from lm_eval==1.0.0)\n",
            "  Downloading accelerate-0.29.3-py3-none-any.whl (297 kB)\n",
            "\u001b[2K     \u001b[90m━━━━━━━━━━━━━━━━━━━━━━━━━━━━━━━━━━━━━━━━\u001b[0m \u001b[32m297.6/297.6 kB\u001b[0m \u001b[31m2.7 MB/s\u001b[0m eta \u001b[36m0:00:00\u001b[0m\n",
            "\u001b[?25hCollecting evaluate (from lm_eval==1.0.0)\n",
            "  Downloading evaluate-0.4.1-py3-none-any.whl (84 kB)\n",
            "\u001b[2K     \u001b[90m━━━━━━━━━━━━━━━━━━━━━━━━━━━━━━━━━━━━━━━━\u001b[0m \u001b[32m84.1/84.1 kB\u001b[0m \u001b[31m12.6 MB/s\u001b[0m eta \u001b[36m0:00:00\u001b[0m\n",
            "\u001b[?25hCollecting datasets>=2.0.0 (from lm_eval==1.0.0)\n",
            "  Downloading datasets-2.19.0-py3-none-any.whl (542 kB)\n",
            "\u001b[2K     \u001b[90m━━━━━━━━━━━━━━━━━━━━━━━━━━━━━━━━━━━━━━━━\u001b[0m \u001b[32m542.0/542.0 kB\u001b[0m \u001b[31m12.0 MB/s\u001b[0m eta \u001b[36m0:00:00\u001b[0m\n",
            "\u001b[?25hCollecting jsonlines (from lm_eval==1.0.0)\n",
            "  Downloading jsonlines-4.0.0-py3-none-any.whl (8.7 kB)\n",
            "Requirement already satisfied: numexpr in /usr/local/lib/python3.10/dist-packages (from lm_eval==1.0.0) (2.10.0)\n",
            "Collecting peft>=0.2.0 (from lm_eval==1.0.0)\n",
            "  Downloading peft-0.10.0-py3-none-any.whl (199 kB)\n",
            "\u001b[2K     \u001b[90m━━━━━━━━━━━━━━━━━━━━━━━━━━━━━━━━━━━━━━━━\u001b[0m \u001b[32m199.1/199.1 kB\u001b[0m \u001b[31m21.0 MB/s\u001b[0m eta \u001b[36m0:00:00\u001b[0m\n",
            "\u001b[?25hCollecting pybind11>=2.6.2 (from lm_eval==1.0.0)\n",
            "  Downloading pybind11-2.12.0-py3-none-any.whl (234 kB)\n",
            "\u001b[2K     \u001b[90m━━━━━━━━━━━━━━━━━━━━━━━━━━━━━━━━━━━━━━━━\u001b[0m \u001b[32m235.0/235.0 kB\u001b[0m \u001b[31m29.6 MB/s\u001b[0m eta \u001b[36m0:00:00\u001b[0m\n",
            "\u001b[?25hCollecting pytablewriter (from lm_eval==1.0.0)\n",
            "  Downloading pytablewriter-1.2.0-py3-none-any.whl (111 kB)\n",
            "\u001b[2K     \u001b[90m━━━━━━━━━━━━━━━━━━━━━━━━━━━━━━━━━━━━━━━━\u001b[0m \u001b[32m111.1/111.1 kB\u001b[0m \u001b[31m16.3 MB/s\u001b[0m eta \u001b[36m0:00:00\u001b[0m\n",
            "\u001b[?25hCollecting rouge-score>=0.0.4 (from lm_eval==1.0.0)\n",
            "  Downloading rouge_score-0.1.2.tar.gz (17 kB)\n",
            "  Preparing metadata (setup.py) ... \u001b[?25l\u001b[?25hdone\n",
            "Collecting sacrebleu>=1.5.0 (from lm_eval==1.0.0)\n",
            "  Downloading sacrebleu-2.4.2-py3-none-any.whl (106 kB)\n",
            "\u001b[2K     \u001b[90m━━━━━━━━━━━━━━━━━━━━━━━━━━━━━━━━━━━━━━━━\u001b[0m \u001b[32m106.7/106.7 kB\u001b[0m \u001b[31m14.9 MB/s\u001b[0m eta \u001b[36m0:00:00\u001b[0m\n",
            "\u001b[?25hRequirement already satisfied: scikit-learn>=0.24.1 in /usr/local/lib/python3.10/dist-packages (from lm_eval==1.0.0) (1.2.2)\n",
            "Collecting sqlitedict (from lm_eval==1.0.0)\n",
            "  Downloading sqlitedict-2.1.0.tar.gz (21 kB)\n",
            "  Preparing metadata (setup.py) ... \u001b[?25l\u001b[?25hdone\n",
            "Requirement already satisfied: torch>=1.8 in /usr/local/lib/python3.10/dist-packages (from lm_eval==1.0.0) (2.2.1+cu121)\n",
            "Collecting tqdm-multiprocess (from lm_eval==1.0.0)\n",
            "  Downloading tqdm_multiprocess-0.0.11-py3-none-any.whl (9.8 kB)\n",
            "Requirement already satisfied: transformers>=4.1 in /usr/local/lib/python3.10/dist-packages (from lm_eval==1.0.0) (4.40.0)\n",
            "Collecting zstandard (from lm_eval==1.0.0)\n",
            "  Downloading zstandard-0.22.0-cp310-cp310-manylinux_2_17_x86_64.manylinux2014_x86_64.whl (5.4 MB)\n",
            "\u001b[2K     \u001b[90m━━━━━━━━━━━━━━━━━━━━━━━━━━━━━━━━━━━━━━━━\u001b[0m \u001b[32m5.4/5.4 MB\u001b[0m \u001b[31m20.7 MB/s\u001b[0m eta \u001b[36m0:00:00\u001b[0m\n",
            "\u001b[?25hRequirement already satisfied: numpy>=1.17 in /usr/local/lib/python3.10/dist-packages (from accelerate>=0.21.0->lm_eval==1.0.0) (1.25.2)\n",
            "Requirement already satisfied: packaging>=20.0 in /usr/local/lib/python3.10/dist-packages (from accelerate>=0.21.0->lm_eval==1.0.0) (24.0)\n",
            "Requirement already satisfied: psutil in /usr/local/lib/python3.10/dist-packages (from accelerate>=0.21.0->lm_eval==1.0.0) (5.9.5)\n",
            "Requirement already satisfied: pyyaml in /usr/local/lib/python3.10/dist-packages (from accelerate>=0.21.0->lm_eval==1.0.0) (6.0.1)\n",
            "Requirement already satisfied: huggingface-hub in /usr/local/lib/python3.10/dist-packages (from accelerate>=0.21.0->lm_eval==1.0.0) (0.20.3)\n",
            "Requirement already satisfied: safetensors>=0.3.1 in /usr/local/lib/python3.10/dist-packages (from accelerate>=0.21.0->lm_eval==1.0.0) (0.4.3)\n",
            "Requirement already satisfied: filelock in /usr/local/lib/python3.10/dist-packages (from datasets>=2.0.0->lm_eval==1.0.0) (3.13.4)\n",
            "Requirement already satisfied: pyarrow>=12.0.0 in /usr/local/lib/python3.10/dist-packages (from datasets>=2.0.0->lm_eval==1.0.0) (14.0.2)\n",
            "Requirement already satisfied: pyarrow-hotfix in /usr/local/lib/python3.10/dist-packages (from datasets>=2.0.0->lm_eval==1.0.0) (0.6)\n",
            "Collecting dill<0.3.9,>=0.3.0 (from datasets>=2.0.0->lm_eval==1.0.0)\n",
            "  Downloading dill-0.3.8-py3-none-any.whl (116 kB)\n",
            "\u001b[2K     \u001b[90m━━━━━━━━━━━━━━━━━━━━━━━━━━━━━━━━━━━━━━━━\u001b[0m \u001b[32m116.3/116.3 kB\u001b[0m \u001b[31m14.8 MB/s\u001b[0m eta \u001b[36m0:00:00\u001b[0m\n",
            "\u001b[?25hRequirement already satisfied: pandas in /usr/local/lib/python3.10/dist-packages (from datasets>=2.0.0->lm_eval==1.0.0) (2.0.3)\n",
            "Requirement already satisfied: requests>=2.19.0 in /usr/local/lib/python3.10/dist-packages (from datasets>=2.0.0->lm_eval==1.0.0) (2.31.0)\n",
            "Requirement already satisfied: tqdm>=4.62.1 in /usr/local/lib/python3.10/dist-packages (from datasets>=2.0.0->lm_eval==1.0.0) (4.66.2)\n",
            "Collecting xxhash (from datasets>=2.0.0->lm_eval==1.0.0)\n",
            "  Downloading xxhash-3.4.1-cp310-cp310-manylinux_2_17_x86_64.manylinux2014_x86_64.whl (194 kB)\n",
            "\u001b[2K     \u001b[90m━━━━━━━━━━━━━━━━━━━━━━━━━━━━━━━━━━━━━━━━\u001b[0m \u001b[32m194.1/194.1 kB\u001b[0m \u001b[31m20.7 MB/s\u001b[0m eta \u001b[36m0:00:00\u001b[0m\n",
            "\u001b[?25hCollecting multiprocess (from datasets>=2.0.0->lm_eval==1.0.0)\n",
            "  Downloading multiprocess-0.70.16-py310-none-any.whl (134 kB)\n",
            "\u001b[2K     \u001b[90m━━━━━━━━━━━━━━━━━━━━━━━━━━━━━━━━━━━━━━━━\u001b[0m \u001b[32m134.8/134.8 kB\u001b[0m \u001b[31m17.5 MB/s\u001b[0m eta \u001b[36m0:00:00\u001b[0m\n",
            "\u001b[?25hRequirement already satisfied: fsspec[http]<=2024.3.1,>=2023.1.0 in /usr/local/lib/python3.10/dist-packages (from datasets>=2.0.0->lm_eval==1.0.0) (2023.6.0)\n",
            "Requirement already satisfied: aiohttp in /usr/local/lib/python3.10/dist-packages (from datasets>=2.0.0->lm_eval==1.0.0) (3.9.5)\n",
            "Collecting huggingface-hub (from accelerate>=0.21.0->lm_eval==1.0.0)\n",
            "  Downloading huggingface_hub-0.22.2-py3-none-any.whl (388 kB)\n",
            "\u001b[2K     \u001b[90m━━━━━━━━━━━━━━━━━━━━━━━━━━━━━━━━━━━━━━━━\u001b[0m \u001b[32m388.9/388.9 kB\u001b[0m \u001b[31m21.4 MB/s\u001b[0m eta \u001b[36m0:00:00\u001b[0m\n",
            "\u001b[?25hCollecting responses<0.19 (from evaluate->lm_eval==1.0.0)\n",
            "  Downloading responses-0.18.0-py3-none-any.whl (38 kB)\n",
            "Requirement already satisfied: absl-py in /usr/local/lib/python3.10/dist-packages (from rouge-score>=0.0.4->lm_eval==1.0.0) (1.4.0)\n",
            "Requirement already satisfied: nltk in /usr/local/lib/python3.10/dist-packages (from rouge-score>=0.0.4->lm_eval==1.0.0) (3.8.1)\n",
            "Requirement already satisfied: six>=1.14.0 in /usr/local/lib/python3.10/dist-packages (from rouge-score>=0.0.4->lm_eval==1.0.0) (1.16.0)\n",
            "Collecting portalocker (from sacrebleu>=1.5.0->lm_eval==1.0.0)\n",
            "  Downloading portalocker-2.8.2-py3-none-any.whl (17 kB)\n",
            "Requirement already satisfied: regex in /usr/local/lib/python3.10/dist-packages (from sacrebleu>=1.5.0->lm_eval==1.0.0) (2023.12.25)\n",
            "Requirement already satisfied: tabulate>=0.8.9 in /usr/local/lib/python3.10/dist-packages (from sacrebleu>=1.5.0->lm_eval==1.0.0) (0.9.0)\n",
            "Collecting colorama (from sacrebleu>=1.5.0->lm_eval==1.0.0)\n",
            "  Downloading colorama-0.4.6-py2.py3-none-any.whl (25 kB)\n",
            "Requirement already satisfied: lxml in /usr/local/lib/python3.10/dist-packages (from sacrebleu>=1.5.0->lm_eval==1.0.0) (4.9.4)\n",
            "Requirement already satisfied: scipy>=1.3.2 in /usr/local/lib/python3.10/dist-packages (from scikit-learn>=0.24.1->lm_eval==1.0.0) (1.11.4)\n",
            "Requirement already satisfied: joblib>=1.1.1 in /usr/local/lib/python3.10/dist-packages (from scikit-learn>=0.24.1->lm_eval==1.0.0) (1.4.0)\n",
            "Requirement already satisfied: threadpoolctl>=2.0.0 in /usr/local/lib/python3.10/dist-packages (from scikit-learn>=0.24.1->lm_eval==1.0.0) (3.4.0)\n",
            "Requirement already satisfied: typing-extensions>=4.8.0 in /usr/local/lib/python3.10/dist-packages (from torch>=1.8->lm_eval==1.0.0) (4.11.0)\n",
            "Requirement already satisfied: sympy in /usr/local/lib/python3.10/dist-packages (from torch>=1.8->lm_eval==1.0.0) (1.12)\n",
            "Requirement already satisfied: networkx in /usr/local/lib/python3.10/dist-packages (from torch>=1.8->lm_eval==1.0.0) (3.3)\n",
            "Requirement already satisfied: jinja2 in /usr/local/lib/python3.10/dist-packages (from torch>=1.8->lm_eval==1.0.0) (3.1.3)\n",
            "Collecting nvidia-cuda-nvrtc-cu12==12.1.105 (from torch>=1.8->lm_eval==1.0.0)\n",
            "  Using cached nvidia_cuda_nvrtc_cu12-12.1.105-py3-none-manylinux1_x86_64.whl (23.7 MB)\n",
            "Collecting nvidia-cuda-runtime-cu12==12.1.105 (from torch>=1.8->lm_eval==1.0.0)\n",
            "  Using cached nvidia_cuda_runtime_cu12-12.1.105-py3-none-manylinux1_x86_64.whl (823 kB)\n",
            "Collecting nvidia-cuda-cupti-cu12==12.1.105 (from torch>=1.8->lm_eval==1.0.0)\n",
            "  Using cached nvidia_cuda_cupti_cu12-12.1.105-py3-none-manylinux1_x86_64.whl (14.1 MB)\n",
            "Collecting nvidia-cudnn-cu12==8.9.2.26 (from torch>=1.8->lm_eval==1.0.0)\n",
            "  Using cached nvidia_cudnn_cu12-8.9.2.26-py3-none-manylinux1_x86_64.whl (731.7 MB)\n",
            "Collecting nvidia-cublas-cu12==12.1.3.1 (from torch>=1.8->lm_eval==1.0.0)\n",
            "  Using cached nvidia_cublas_cu12-12.1.3.1-py3-none-manylinux1_x86_64.whl (410.6 MB)\n",
            "Collecting nvidia-cufft-cu12==11.0.2.54 (from torch>=1.8->lm_eval==1.0.0)\n",
            "  Using cached nvidia_cufft_cu12-11.0.2.54-py3-none-manylinux1_x86_64.whl (121.6 MB)\n",
            "Collecting nvidia-curand-cu12==10.3.2.106 (from torch>=1.8->lm_eval==1.0.0)\n",
            "  Using cached nvidia_curand_cu12-10.3.2.106-py3-none-manylinux1_x86_64.whl (56.5 MB)\n",
            "Collecting nvidia-cusolver-cu12==11.4.5.107 (from torch>=1.8->lm_eval==1.0.0)\n",
            "  Using cached nvidia_cusolver_cu12-11.4.5.107-py3-none-manylinux1_x86_64.whl (124.2 MB)\n",
            "Collecting nvidia-cusparse-cu12==12.1.0.106 (from torch>=1.8->lm_eval==1.0.0)\n",
            "  Using cached nvidia_cusparse_cu12-12.1.0.106-py3-none-manylinux1_x86_64.whl (196.0 MB)\n",
            "Collecting nvidia-nccl-cu12==2.19.3 (from torch>=1.8->lm_eval==1.0.0)\n",
            "  Using cached nvidia_nccl_cu12-2.19.3-py3-none-manylinux1_x86_64.whl (166.0 MB)\n",
            "Collecting nvidia-nvtx-cu12==12.1.105 (from torch>=1.8->lm_eval==1.0.0)\n",
            "  Using cached nvidia_nvtx_cu12-12.1.105-py3-none-manylinux1_x86_64.whl (99 kB)\n",
            "Requirement already satisfied: triton==2.2.0 in /usr/local/lib/python3.10/dist-packages (from torch>=1.8->lm_eval==1.0.0) (2.2.0)\n",
            "Collecting nvidia-nvjitlink-cu12 (from nvidia-cusolver-cu12==11.4.5.107->torch>=1.8->lm_eval==1.0.0)\n",
            "  Using cached nvidia_nvjitlink_cu12-12.4.127-py3-none-manylinux2014_x86_64.whl (21.1 MB)\n",
            "Requirement already satisfied: tokenizers<0.20,>=0.19 in /usr/local/lib/python3.10/dist-packages (from transformers>=4.1->lm_eval==1.0.0) (0.19.1)\n",
            "Requirement already satisfied: attrs>=19.2.0 in /usr/local/lib/python3.10/dist-packages (from jsonlines->lm_eval==1.0.0) (23.2.0)\n",
            "Requirement already satisfied: setuptools>=38.3.0 in /usr/local/lib/python3.10/dist-packages (from pytablewriter->lm_eval==1.0.0) (67.7.2)\n",
            "Collecting DataProperty<2,>=1.0.1 (from pytablewriter->lm_eval==1.0.0)\n",
            "  Downloading DataProperty-1.0.1-py3-none-any.whl (27 kB)\n",
            "Collecting mbstrdecoder<2,>=1.0.0 (from pytablewriter->lm_eval==1.0.0)\n",
            "  Downloading mbstrdecoder-1.1.3-py3-none-any.whl (7.8 kB)\n",
            "Collecting pathvalidate<4,>=2.3.0 (from pytablewriter->lm_eval==1.0.0)\n",
            "  Downloading pathvalidate-3.2.0-py3-none-any.whl (23 kB)\n",
            "Collecting tabledata<2,>=1.3.1 (from pytablewriter->lm_eval==1.0.0)\n",
            "  Downloading tabledata-1.3.3-py3-none-any.whl (11 kB)\n",
            "Collecting tcolorpy<1,>=0.0.5 (from pytablewriter->lm_eval==1.0.0)\n",
            "  Downloading tcolorpy-0.1.4-py3-none-any.whl (7.9 kB)\n",
            "Collecting typepy[datetime]<2,>=1.3.2 (from pytablewriter->lm_eval==1.0.0)\n",
            "  Downloading typepy-1.3.2-py3-none-any.whl (31 kB)\n",
            "Requirement already satisfied: aiosignal>=1.1.2 in /usr/local/lib/python3.10/dist-packages (from aiohttp->datasets>=2.0.0->lm_eval==1.0.0) (1.3.1)\n",
            "Requirement already satisfied: frozenlist>=1.1.1 in /usr/local/lib/python3.10/dist-packages (from aiohttp->datasets>=2.0.0->lm_eval==1.0.0) (1.4.1)\n",
            "Requirement already satisfied: multidict<7.0,>=4.5 in /usr/local/lib/python3.10/dist-packages (from aiohttp->datasets>=2.0.0->lm_eval==1.0.0) (6.0.5)\n",
            "Requirement already satisfied: yarl<2.0,>=1.0 in /usr/local/lib/python3.10/dist-packages (from aiohttp->datasets>=2.0.0->lm_eval==1.0.0) (1.9.4)\n",
            "Requirement already satisfied: async-timeout<5.0,>=4.0 in /usr/local/lib/python3.10/dist-packages (from aiohttp->datasets>=2.0.0->lm_eval==1.0.0) (4.0.3)\n",
            "Requirement already satisfied: chardet<6,>=3.0.4 in /usr/local/lib/python3.10/dist-packages (from mbstrdecoder<2,>=1.0.0->pytablewriter->lm_eval==1.0.0) (5.2.0)\n",
            "Requirement already satisfied: charset-normalizer<4,>=2 in /usr/local/lib/python3.10/dist-packages (from requests>=2.19.0->datasets>=2.0.0->lm_eval==1.0.0) (3.3.2)\n",
            "Requirement already satisfied: idna<4,>=2.5 in /usr/local/lib/python3.10/dist-packages (from requests>=2.19.0->datasets>=2.0.0->lm_eval==1.0.0) (3.7)\n",
            "Requirement already satisfied: urllib3<3,>=1.21.1 in /usr/local/lib/python3.10/dist-packages (from requests>=2.19.0->datasets>=2.0.0->lm_eval==1.0.0) (2.0.7)\n",
            "Requirement already satisfied: certifi>=2017.4.17 in /usr/local/lib/python3.10/dist-packages (from requests>=2.19.0->datasets>=2.0.0->lm_eval==1.0.0) (2024.2.2)\n",
            "Requirement already satisfied: python-dateutil<3.0.0,>=2.8.0 in /usr/local/lib/python3.10/dist-packages (from typepy[datetime]<2,>=1.3.2->pytablewriter->lm_eval==1.0.0) (2.8.2)\n",
            "Requirement already satisfied: pytz>=2018.9 in /usr/local/lib/python3.10/dist-packages (from typepy[datetime]<2,>=1.3.2->pytablewriter->lm_eval==1.0.0) (2023.4)\n",
            "Requirement already satisfied: MarkupSafe>=2.0 in /usr/local/lib/python3.10/dist-packages (from jinja2->torch>=1.8->lm_eval==1.0.0) (2.1.5)\n",
            "Requirement already satisfied: click in /usr/local/lib/python3.10/dist-packages (from nltk->rouge-score>=0.0.4->lm_eval==1.0.0) (8.1.7)\n",
            "Requirement already satisfied: tzdata>=2022.1 in /usr/local/lib/python3.10/dist-packages (from pandas->datasets>=2.0.0->lm_eval==1.0.0) (2024.1)\n",
            "Requirement already satisfied: mpmath>=0.19 in /usr/local/lib/python3.10/dist-packages (from sympy->torch>=1.8->lm_eval==1.0.0) (1.3.0)\n",
            "Building wheels for collected packages: lm_eval, rouge-score, sqlitedict\n",
            "  Building wheel for lm_eval (pyproject.toml) ... \u001b[?25l\u001b[?25hdone\n",
            "  Created wheel for lm_eval: filename=lm_eval-1.0.0-py3-none-any.whl size=995255 sha256=a510b49aeb7389895846aa6622cc990a02793a6d94e5ecca9d95176bff58fd4c\n",
            "  Stored in directory: /tmp/pip-ephem-wheel-cache-3sblof4m/wheels/17/01/26/599c0779e9858a70a73fa8a306699b5b9a868f820c225457b0\n",
            "  Building wheel for rouge-score (setup.py) ... \u001b[?25l\u001b[?25hdone\n",
            "  Created wheel for rouge-score: filename=rouge_score-0.1.2-py3-none-any.whl size=24933 sha256=b30a49c13105c345818a76327c27724c67033e461f4feca892e95b343463de0a\n",
            "  Stored in directory: /root/.cache/pip/wheels/5f/dd/89/461065a73be61a532ff8599a28e9beef17985c9e9c31e541b4\n",
            "  Building wheel for sqlitedict (setup.py) ... \u001b[?25l\u001b[?25hdone\n",
            "  Created wheel for sqlitedict: filename=sqlitedict-2.1.0-py3-none-any.whl size=16862 sha256=71f9f736f9785eac8d700ba192510c9e4463383084c100a6ac4dd0661e566179\n",
            "  Stored in directory: /root/.cache/pip/wheels/79/d6/e7/304e0e6cb2221022c26d8161f7c23cd4f259a9e41e8bbcfabd\n",
            "Successfully built lm_eval rouge-score sqlitedict\n",
            "Installing collected packages: sqlitedict, zstandard, xxhash, tcolorpy, pybind11, portalocker, pathvalidate, nvidia-nvtx-cu12, nvidia-nvjitlink-cu12, nvidia-nccl-cu12, nvidia-curand-cu12, nvidia-cufft-cu12, nvidia-cuda-runtime-cu12, nvidia-cuda-nvrtc-cu12, nvidia-cuda-cupti-cu12, nvidia-cublas-cu12, mbstrdecoder, jsonlines, dill, colorama, typepy, tqdm-multiprocess, sacrebleu, rouge-score, responses, nvidia-cusparse-cu12, nvidia-cudnn-cu12, multiprocess, huggingface-hub, nvidia-cusolver-cu12, datasets, DataProperty, tabledata, evaluate, accelerate, pytablewriter, peft, lm_eval\n",
            "  Attempting uninstall: huggingface-hub\n",
            "    Found existing installation: huggingface-hub 0.20.3\n",
            "    Uninstalling huggingface-hub-0.20.3:\n",
            "      Successfully uninstalled huggingface-hub-0.20.3\n",
            "Successfully installed DataProperty-1.0.1 accelerate-0.29.3 colorama-0.4.6 datasets-2.19.0 dill-0.3.8 evaluate-0.4.1 huggingface-hub-0.22.2 jsonlines-4.0.0 lm_eval-1.0.0 mbstrdecoder-1.1.3 multiprocess-0.70.16 nvidia-cublas-cu12-12.1.3.1 nvidia-cuda-cupti-cu12-12.1.105 nvidia-cuda-nvrtc-cu12-12.1.105 nvidia-cuda-runtime-cu12-12.1.105 nvidia-cudnn-cu12-8.9.2.26 nvidia-cufft-cu12-11.0.2.54 nvidia-curand-cu12-10.3.2.106 nvidia-cusolver-cu12-11.4.5.107 nvidia-cusparse-cu12-12.1.0.106 nvidia-nccl-cu12-2.19.3 nvidia-nvjitlink-cu12-12.4.127 nvidia-nvtx-cu12-12.1.105 pathvalidate-3.2.0 peft-0.10.0 portalocker-2.8.2 pybind11-2.12.0 pytablewriter-1.2.0 responses-0.18.0 rouge-score-0.1.2 sacrebleu-2.4.2 sqlitedict-2.1.0 tabledata-1.3.3 tcolorpy-0.1.4 tqdm-multiprocess-0.0.11 typepy-1.3.2 xxhash-3.4.1 zstandard-0.22.0\n"
          ]
        }
      ],
      "source": [
        "# Install LM-Eval\n",
        "!pip install git+https://github.com/EleutherAI/lm-evaluation-harness.git@big-refactor"
      ]
    },
    {
      "cell_type": "code",
      "execution_count": null,
      "metadata": {
        "colab": {
          "base_uri": "https://localhost:8080/",
          "height": 49,
          "referenced_widgets": [
            "bfd5889eb1f5417b8d4821fe35e1d3c1",
            "5c730edb26204755bf63c3131fa0ab06",
            "c998e23e1e0a47b0ae436b673325be51",
            "33ff680f6c1846738f1c41da90b75196",
            "3f1b1c1f3b154c0a90bb8eb424d7d5a2",
            "9a5e691f8afb4c8db6a43755fc288139",
            "52c9094cf6354893a45e0fc425b2e18d",
            "76ea57b3b3944cb1b32ea591aa6495fb",
            "a8156a84036845ff8d5fd34818ed1bb2",
            "ecc0ad79d7a64e7faf00ba24db3a1d30",
            "adcd2a35b6a0476ca57f8aa77b669e58"
          ]
        },
        "id": "uyO5MaKkZyah",
        "outputId": "9c2576b0-0de1-4877-e80b-f883f690804d"
      },
      "outputs": [
        {
          "data": {
            "application/vnd.jupyter.widget-view+json": {
              "model_id": "bfd5889eb1f5417b8d4821fe35e1d3c1",
              "version_major": 2,
              "version_minor": 0
            },
            "text/plain": [
              "Downloading builder script:   0%|          | 0.00/5.67k [00:00<?, ?B/s]"
            ]
          },
          "metadata": {},
          "output_type": "display_data"
        }
      ],
      "source": [
        "from lm_eval import api"
      ]
    },
    {
      "cell_type": "markdown",
      "metadata": {
        "id": "8rfUeX6n_wkK"
      },
      "source": [
        "## Create new evaluation tasks with config-based tasks\n",
        "\n",
        "Even within the same task, many works have reported numbers based on different choices of evaluation. Some report on the test sets, validation sets, or even subset of the training sets. Others have specialized prompts and verbalizers. We introduce YAMLs to allow users to easily make different variations. By leveraging the YAML configs to configure evaluations, the refactored LM-Eval takes the methods of the `Task` object and makes them configurable by setting the appropriate attributes in the config file. There, users can set the tasks they want by setting the name of the HF dataset (local tasks are also possible), the dataset splits used, and much more. Key configurations relating to prompting, such as `doc_to_text`, previously implemented as a method of the same name, are now configurable with jinja2 to allow high-level scripting to transform a HF dataset to text string as input to the model.\n",
        "\n"
      ]
    },
    {
      "cell_type": "markdown",
      "metadata": {
        "id": "HYFUhhfOSJKe"
      },
      "source": [
        "A core-feature to LM-Eval is to configure tasks with YAML configs. With configs, you can fill preset fields to easily set up a task.\n",
        "\n",
        "Here, we will first use the task of hate detection (https://huggingface.co/datasets/dipteshkanojia/implicit_hate) as an example on two well known state of the art architectures. This will allow us to evaluate how biased the pre-training of these models are w.r.t identifying hate speech."
      ]
    },
    {
      "cell_type": "code",
      "execution_count": null,
      "metadata": {
        "id": "DdtJNbBiv9r2"
      },
      "outputs": [],
      "source": [
        "YAML_imhc_string = '''\n",
        "task: implicit_hate_classification\n",
        "dataset_path: dipteshkanojia/implicit_hate\n",
        "output_type: multiple_choice\n",
        "fewshot_split: validation\n",
        "test_split: test\n",
        "doc_to_text: \"Statement: {{text}}\"\n",
        "doc_to_target: label\n",
        "doc_to_choice: [\"neutral\", \"hate\"]\n",
        "'''\n",
        "with open('implicit-hate.yaml', 'w') as f:\n",
        "    f.write(YAML_imhc_string)"
      ]
    },
    {
      "cell_type": "markdown",
      "metadata": {
        "id": "dTnDZZTu2Foe"
      },
      "source": [
        "### Zero-shot classification on the Implicit Hate Dataset using distilgpt2 model"
      ]
    },
    {
      "cell_type": "markdown",
      "metadata": {
        "id": "MLZckr5uFFCC"
      },
      "source": [
        "To start out, we will use DistilGPT to perform zero-shot/few-shot classification on the previously mentioned dataset.\n",
        "Zero-shot refers to the process of evaluating a pre-trained network on a dataset without any prior training on it, while in few-shot set-ups the models are allowed to see a really small subset of samples before testing. This would ensure that we keep the all/most of the knowledge gained during pre-training without biasing the architecture to our evaluation benchmark."
      ]
    },
    {
      "cell_type": "code",
      "execution_count": null,
      "metadata": {
        "id": "xjxv2j4d-ehc"
      },
      "outputs": [],
      "source": [
        "!lm-eval --tasks list"
      ]
    },
    {
      "cell_type": "code",
      "execution_count": null,
      "metadata": {
        "colab": {
          "base_uri": "https://localhost:8080/"
        },
        "id": "A-MVctuX2Dg1",
        "outputId": "30cbb9f8-72d9-4f5a-c007-fcc7a22635fe"
      },
      "outputs": [
        {
          "name": "stdout",
          "output_type": "stream",
          "text": [
            "2024-04-25:16:02:21,695 INFO     [utils.py:161] NumExpr defaulting to 2 threads.\n",
            "2024-04-25:16:02:21,981 INFO     [config.py:58] PyTorch version 2.2.1+cu121 available.\n",
            "2024-04-25:16:02:21,982 INFO     [config.py:70] Polars version 0.20.2 available.\n",
            "2024-04-25:16:02:21,983 INFO     [config.py:105] TensorFlow version 2.15.0 available.\n",
            "2024-04-25:16:02:21,984 INFO     [config.py:118] JAX version 0.4.26 available.\n",
            "2024-04-25 16:02:22.526078: E external/local_xla/xla/stream_executor/cuda/cuda_dnn.cc:9261] Unable to register cuDNN factory: Attempting to register factory for plugin cuDNN when one has already been registered\n",
            "2024-04-25 16:02:22.526127: E external/local_xla/xla/stream_executor/cuda/cuda_fft.cc:607] Unable to register cuFFT factory: Attempting to register factory for plugin cuFFT when one has already been registered\n",
            "2024-04-25 16:02:22.527331: E external/local_xla/xla/stream_executor/cuda/cuda_blas.cc:1515] Unable to register cuBLAS factory: Attempting to register factory for plugin cuBLAS when one has already been registered\n",
            "2024-04-25 16:02:23.644933: W tensorflow/compiler/tf2tensorrt/utils/py_utils.cc:38] TF-TRT Warning: Could not find TensorRT\n",
            "2024-04-25:16:02:27,488 INFO     [__main__.py:132] Verbosity set to INFO\n",
            "2024-04-25:16:02:36,508 WARNING  [__main__.py:138]  --limit SHOULD ONLY BE USED FOR TESTING.REAL METRICS SHOULD NOT BE COMPUTED USING LIMIT.\n",
            "2024-04-25:16:02:36,508 INFO     [__main__.py:143] Including path: ./\n",
            "2024-04-25:16:02:36,512 INFO     [__main__.py:205] Selected Tasks: ['implicit_hate_classification']\n",
            "2024-04-25:16:02:36,513 WARNING  [evaluator.py:93] generation_kwargs specified through cli, these settings will be used over set parameters in yaml tasks.\n",
            "2024-04-25:16:02:36,595 INFO     [huggingface.py:120] Using device 'cuda'\n",
            "2024-04-25:16:02:39,856 INFO     [task.py:355] Building contexts for task on rank 0...\n",
            "2024-04-25:16:02:39,862 INFO     [evaluator.py:319] Running loglikelihood requests\n",
            "100% 20/20 [00:00<00:00, 25.80it/s]\n",
            "fatal: not a git repository (or any of the parent directories): .git\n",
            "hf (pretrained=distilbert/distilgpt2), gen_kwargs: (), limit: 10.0, num_fewshot: None, batch_size: 1\n",
            "|           Tasks            |Version|Filter|n-shot| Metric |Value|   |Stderr|\n",
            "|----------------------------|-------|------|-----:|--------|----:|---|-----:|\n",
            "|implicit_hate_classification|Yaml   |none  |     0|acc     |  0.9|±  |   0.1|\n",
            "|                            |       |none  |     0|acc_norm|  0.1|±  |   0.1|\n",
            "\n"
          ]
        }
      ],
      "source": [
        "!lm_eval \\\n",
        "    --model hf \\\n",
        "    --model_args pretrained=distilbert/distilgpt2 \\\n",
        "    --include_path ./ \\\n",
        "    --tasks implicit_hate_classification \\\n",
        "    --limit 10"
      ]
    },
    {
      "cell_type": "markdown",
      "metadata": {
        "id": "Bas_-kNP2PfE"
      },
      "source": [
        "### Few-shot (5-shot) classification on the Implicit Hate Dataset using distilgpt2 model"
      ]
    },
    {
      "cell_type": "code",
      "execution_count": null,
      "metadata": {
        "colab": {
          "base_uri": "https://localhost:8080/"
        },
        "id": "4jN_wDCxzDcS",
        "outputId": "ae2df5f1-57ae-4abb-e61f-d558e7b0f7fa"
      },
      "outputs": [
        {
          "name": "stdout",
          "output_type": "stream",
          "text": [
            "2024-04-25:16:02:44,673 INFO     [utils.py:161] NumExpr defaulting to 2 threads.\n",
            "2024-04-25:16:02:44,929 INFO     [config.py:58] PyTorch version 2.2.1+cu121 available.\n",
            "2024-04-25:16:02:44,930 INFO     [config.py:70] Polars version 0.20.2 available.\n",
            "2024-04-25:16:02:44,931 INFO     [config.py:105] TensorFlow version 2.15.0 available.\n",
            "2024-04-25:16:02:44,932 INFO     [config.py:118] JAX version 0.4.26 available.\n",
            "2024-04-25 16:02:45.475355: E external/local_xla/xla/stream_executor/cuda/cuda_dnn.cc:9261] Unable to register cuDNN factory: Attempting to register factory for plugin cuDNN when one has already been registered\n",
            "2024-04-25 16:02:45.475410: E external/local_xla/xla/stream_executor/cuda/cuda_fft.cc:607] Unable to register cuFFT factory: Attempting to register factory for plugin cuFFT when one has already been registered\n",
            "2024-04-25 16:02:45.476621: E external/local_xla/xla/stream_executor/cuda/cuda_blas.cc:1515] Unable to register cuBLAS factory: Attempting to register factory for plugin cuBLAS when one has already been registered\n",
            "2024-04-25 16:02:46.618005: W tensorflow/compiler/tf2tensorrt/utils/py_utils.cc:38] TF-TRT Warning: Could not find TensorRT\n",
            "2024-04-25:16:02:50,148 INFO     [__main__.py:132] Verbosity set to INFO\n",
            "2024-04-25:16:02:58,651 WARNING  [__main__.py:138]  --limit SHOULD ONLY BE USED FOR TESTING.REAL METRICS SHOULD NOT BE COMPUTED USING LIMIT.\n",
            "2024-04-25:16:02:58,651 INFO     [__main__.py:143] Including path: ./\n",
            "2024-04-25:16:02:58,655 INFO     [__main__.py:205] Selected Tasks: ['implicit_hate_classification']\n",
            "2024-04-25:16:02:58,656 WARNING  [evaluator.py:93] generation_kwargs specified through cli, these settings will be used over set parameters in yaml tasks.\n",
            "2024-04-25:16:02:58,718 INFO     [huggingface.py:120] Using device 'cuda'\n",
            "2024-04-25:16:03:01,794 WARNING  [evaluator.py:143] Overwriting default num_fewshot of implicit_hate_classification from None to 5\n",
            "2024-04-25:16:03:01,796 INFO     [task.py:355] Building contexts for task on rank 0...\n",
            "2024-04-25:16:03:01,882 INFO     [evaluator.py:319] Running loglikelihood requests\n",
            "100% 20/20 [00:01<00:00, 19.06it/s]\n",
            "fatal: not a git repository (or any of the parent directories): .git\n",
            "hf (pretrained=distilbert/distilgpt2), gen_kwargs: (), limit: 10.0, num_fewshot: 5, batch_size: 1\n",
            "|           Tasks            |Version|Filter|n-shot| Metric |Value|   |Stderr|\n",
            "|----------------------------|-------|------|-----:|--------|----:|---|-----:|\n",
            "|implicit_hate_classification|Yaml   |none  |     5|acc     |  0.9|±  |0.1000|\n",
            "|                            |       |none  |     5|acc_norm|  0.4|±  |0.1633|\n",
            "\n"
          ]
        }
      ],
      "source": [
        "!lm_eval \\\n",
        "    --model hf \\\n",
        "    --model_args pretrained=distilbert/distilgpt2 \\\n",
        "    --num_fewshot 5 \\\n",
        "    --include_path ./ \\\n",
        "    --tasks implicit_hate_classification \\\n",
        "    --limit 10"
      ]
    },
    {
      "cell_type": "markdown",
      "metadata": {
        "id": "YxBD-5CD4Jxt"
      },
      "source": [
        "### Zero-shot classification on the Implicit Hate Dataset using GPT-Neo-1.3B model"
      ]
    },
    {
      "cell_type": "markdown",
      "metadata": {
        "id": "Mqafi9ovGXBp"
      },
      "source": [
        "Let's repeat the process using another well-known LLM i.e. GPT-Neo"
      ]
    },
    {
      "cell_type": "code",
      "execution_count": null,
      "metadata": {
        "colab": {
          "base_uri": "https://localhost:8080/"
        },
        "id": "Ura9W1ok3gwm",
        "outputId": "0e6e74bb-891a-4a2a-f0ee-924aec4256f9"
      },
      "outputs": [
        {
          "name": "stdout",
          "output_type": "stream",
          "text": [
            "2024-04-25:16:03:06,979 INFO     [utils.py:161] NumExpr defaulting to 2 threads.\n",
            "2024-04-25:16:03:07,214 INFO     [config.py:58] PyTorch version 2.2.1+cu121 available.\n",
            "2024-04-25:16:03:07,215 INFO     [config.py:70] Polars version 0.20.2 available.\n",
            "2024-04-25:16:03:07,216 INFO     [config.py:105] TensorFlow version 2.15.0 available.\n",
            "2024-04-25:16:03:07,217 INFO     [config.py:118] JAX version 0.4.26 available.\n",
            "2024-04-25 16:03:07.698719: E external/local_xla/xla/stream_executor/cuda/cuda_dnn.cc:9261] Unable to register cuDNN factory: Attempting to register factory for plugin cuDNN when one has already been registered\n",
            "2024-04-25 16:03:07.698771: E external/local_xla/xla/stream_executor/cuda/cuda_fft.cc:607] Unable to register cuFFT factory: Attempting to register factory for plugin cuFFT when one has already been registered\n",
            "2024-04-25 16:03:07.699918: E external/local_xla/xla/stream_executor/cuda/cuda_blas.cc:1515] Unable to register cuBLAS factory: Attempting to register factory for plugin cuBLAS when one has already been registered\n",
            "2024-04-25 16:03:08.873642: W tensorflow/compiler/tf2tensorrt/utils/py_utils.cc:38] TF-TRT Warning: Could not find TensorRT\n",
            "2024-04-25:16:03:11,820 INFO     [__main__.py:132] Verbosity set to INFO\n",
            "2024-04-25:16:03:21,346 WARNING  [__main__.py:138]  --limit SHOULD ONLY BE USED FOR TESTING.REAL METRICS SHOULD NOT BE COMPUTED USING LIMIT.\n",
            "2024-04-25:16:03:21,346 INFO     [__main__.py:143] Including path: ./\n",
            "2024-04-25:16:03:21,349 INFO     [__main__.py:205] Selected Tasks: ['implicit_hate_classification']\n",
            "2024-04-25:16:03:21,350 WARNING  [evaluator.py:93] generation_kwargs specified through cli, these settings will be used over set parameters in yaml tasks.\n",
            "2024-04-25:16:03:21,410 INFO     [huggingface.py:120] Using device 'cuda'\n",
            "2024-04-25:16:03:27,830 INFO     [task.py:355] Building contexts for task on rank 0...\n",
            "2024-04-25:16:03:27,835 INFO     [evaluator.py:319] Running loglikelihood requests\n",
            "100% 20/20 [00:01<00:00, 11.98it/s]\n",
            "fatal: not a git repository (or any of the parent directories): .git\n",
            "hf (pretrained=EleutherAI/gpt-neo-1.3B), gen_kwargs: (), limit: 10.0, num_fewshot: None, batch_size: 1\n",
            "|           Tasks            |Version|Filter|n-shot| Metric |Value|   |Stderr|\n",
            "|----------------------------|-------|------|-----:|--------|----:|---|-----:|\n",
            "|implicit_hate_classification|Yaml   |none  |     0|acc     |  0.8|±  |0.1333|\n",
            "|                            |       |none  |     0|acc_norm|  0.1|±  |0.1000|\n",
            "\n"
          ]
        }
      ],
      "source": [
        "!lm_eval \\\n",
        "    --model hf \\\n",
        "    --model_args pretrained=EleutherAI/gpt-neo-1.3B \\\n",
        "    --include_path ./ \\\n",
        "    --tasks implicit_hate_classification \\\n",
        "    --limit 10"
      ]
    },
    {
      "cell_type": "markdown",
      "metadata": {
        "id": "bjnOQOyg4UGE"
      },
      "source": [
        "### Few-shot (5-shot) classification on the Implicit Hate Dataset using GPT-Neo-1.3B model"
      ]
    },
    {
      "cell_type": "code",
      "execution_count": null,
      "metadata": {
        "colab": {
          "base_uri": "https://localhost:8080/"
        },
        "id": "JChhScM64XOx",
        "outputId": "f6e2e8db-72a0-4b63-9abf-25b2e420c0ee"
      },
      "outputs": [
        {
          "name": "stdout",
          "output_type": "stream",
          "text": [
            "2024-04-25:16:03:33,548 INFO     [utils.py:161] NumExpr defaulting to 2 threads.\n",
            "2024-04-25:16:03:33,800 INFO     [config.py:58] PyTorch version 2.2.1+cu121 available.\n",
            "2024-04-25:16:03:33,801 INFO     [config.py:70] Polars version 0.20.2 available.\n",
            "2024-04-25:16:03:33,801 INFO     [config.py:105] TensorFlow version 2.15.0 available.\n",
            "2024-04-25:16:03:33,802 INFO     [config.py:118] JAX version 0.4.26 available.\n",
            "2024-04-25 16:03:34.305759: E external/local_xla/xla/stream_executor/cuda/cuda_dnn.cc:9261] Unable to register cuDNN factory: Attempting to register factory for plugin cuDNN when one has already been registered\n",
            "2024-04-25 16:03:34.305830: E external/local_xla/xla/stream_executor/cuda/cuda_fft.cc:607] Unable to register cuFFT factory: Attempting to register factory for plugin cuFFT when one has already been registered\n",
            "2024-04-25 16:03:34.307141: E external/local_xla/xla/stream_executor/cuda/cuda_blas.cc:1515] Unable to register cuBLAS factory: Attempting to register factory for plugin cuBLAS when one has already been registered\n",
            "2024-04-25 16:03:35.500342: W tensorflow/compiler/tf2tensorrt/utils/py_utils.cc:38] TF-TRT Warning: Could not find TensorRT\n",
            "2024-04-25:16:03:39,430 INFO     [__main__.py:132] Verbosity set to INFO\n",
            "2024-04-25:16:03:47,924 WARNING  [__main__.py:138]  --limit SHOULD ONLY BE USED FOR TESTING.REAL METRICS SHOULD NOT BE COMPUTED USING LIMIT.\n",
            "2024-04-25:16:03:47,924 INFO     [__main__.py:143] Including path: ./\n",
            "2024-04-25:16:03:47,928 INFO     [__main__.py:205] Selected Tasks: ['implicit_hate_classification']\n",
            "2024-04-25:16:03:47,929 WARNING  [evaluator.py:93] generation_kwargs specified through cli, these settings will be used over set parameters in yaml tasks.\n",
            "2024-04-25:16:03:47,991 INFO     [huggingface.py:120] Using device 'cuda'\n",
            "2024-04-25:16:03:53,532 WARNING  [evaluator.py:143] Overwriting default num_fewshot of implicit_hate_classification from None to 5\n",
            "2024-04-25:16:03:53,533 INFO     [task.py:355] Building contexts for task on rank 0...\n",
            "2024-04-25:16:03:53,582 INFO     [evaluator.py:319] Running loglikelihood requests\n",
            "100% 20/20 [00:03<00:00,  6.53it/s]\n",
            "fatal: not a git repository (or any of the parent directories): .git\n",
            "hf (pretrained=EleutherAI/gpt-neo-1.3B), gen_kwargs: (), limit: 10.0, num_fewshot: 5, batch_size: 1\n",
            "|           Tasks            |Version|Filter|n-shot| Metric |Value|   |Stderr|\n",
            "|----------------------------|-------|------|-----:|--------|----:|---|-----:|\n",
            "|implicit_hate_classification|Yaml   |none  |     5|acc     |  0.5|±  |0.1667|\n",
            "|                            |       |none  |     5|acc_norm|  0.1|±  |0.1000|\n",
            "\n"
          ]
        }
      ],
      "source": [
        "!lm_eval \\\n",
        "    --model hf \\\n",
        "    --model_args pretrained=EleutherAI/gpt-neo-1.3B \\\n",
        "    --num_fewshot 5 \\\n",
        "    --include_path ./ \\\n",
        "    --tasks implicit_hate_classification \\\n",
        "    --limit 10"
      ]
    },
    {
      "cell_type": "markdown",
      "metadata": {
        "id": "IceW2KcDGmr1"
      },
      "source": [
        "With LLM-eval, you can switch between evaluation benchmarks by just creating a new YAML string for each dataset to use. In this case we can also use the toxigen dataset, a similar collection also tailored to implicit hate-speech detection."
      ]
    },
    {
      "cell_type": "code",
      "execution_count": null,
      "metadata": {
        "id": "gArG2X2U92tD"
      },
      "outputs": [],
      "source": [
        "YAML_toxigen_string = '''\n",
        "task: toxigen\n",
        "dataset_path: skg/toxigen-data\n",
        "dataset_name: annotated\n",
        "output_type: multiple_choice\n",
        "training_split: train\n",
        "test_split: test\n",
        "doc_to_text: \"Is the following statement hateful? Respond with either Yes or No. Statement: '{{text}}'\"\n",
        "doc_to_target: !function utils.doc_to_target\n",
        "doc_to_choice: ['No', 'Yes']\n",
        "'''\n",
        "with open('toxigen.yaml', 'w') as f:\n",
        "    f.write(YAML_toxigen_string)"
      ]
    },
    {
      "cell_type": "markdown",
      "metadata": {
        "id": "A6R3hOkBHQ7U"
      },
      "source": [
        "However, the toxigen dataset requires for the users to accept its terms and conditions prior to using it, so we first have to log into the hugging-face API for access (this step may only work on google collab). To complete the process, create a huggingface account and follow the steps in the dialog box below"
      ]
    },
    {
      "cell_type": "code",
      "execution_count": null,
      "metadata": {
        "colab": {
          "base_uri": "https://localhost:8080/"
        },
        "id": "ukwl9jOtELWB",
        "outputId": "e700b720-45f3-41b9-a508-848ab37f19fe"
      },
      "outputs": [
        {
          "name": "stdout",
          "output_type": "stream",
          "text": [
            "\n",
            "    _|    _|  _|    _|    _|_|_|    _|_|_|  _|_|_|  _|      _|    _|_|_|      _|_|_|_|    _|_|      _|_|_|  _|_|_|_|\n",
            "    _|    _|  _|    _|  _|        _|          _|    _|_|    _|  _|            _|        _|    _|  _|        _|\n",
            "    _|_|_|_|  _|    _|  _|  _|_|  _|  _|_|    _|    _|  _|  _|  _|  _|_|      _|_|_|    _|_|_|_|  _|        _|_|_|\n",
            "    _|    _|  _|    _|  _|    _|  _|    _|    _|    _|    _|_|  _|    _|      _|        _|    _|  _|        _|\n",
            "    _|    _|    _|_|      _|_|_|    _|_|_|  _|_|_|  _|      _|    _|_|_|      _|        _|    _|    _|_|_|  _|_|_|_|\n",
            "\n",
            "    To login, `huggingface_hub` requires a token generated from https://huggingface.co/settings/tokens .\n",
            "Enter your token (input will not be visible): \n",
            "Add token as git credential? (Y/n) Y\n",
            "Token is valid (permission: read).\n",
            "\u001b[1m\u001b[31mCannot authenticate through git-credential as no helper is defined on your machine.\n",
            "You might have to re-authenticate when pushing to the Hugging Face Hub.\n",
            "Run the following command in your terminal in case you want to set the 'store' credential helper as default.\n",
            "\n",
            "git config --global credential.helper store\n",
            "\n",
            "Read https://git-scm.com/book/en/v2/Git-Tools-Credential-Storage for more details.\u001b[0m\n",
            "Token has not been saved to git credential helper.\n",
            "Your token has been saved to /root/.cache/huggingface/token\n",
            "Login successful\n"
          ]
        }
      ],
      "source": [
        "!huggingface-cli login"
      ]
    },
    {
      "cell_type": "code",
      "execution_count": null,
      "metadata": {
        "colab": {
          "base_uri": "https://localhost:8080/"
        },
        "id": "rgNXCcz7Cukr",
        "outputId": "8cba0fb4-ff44-490b-9754-ade1f429fa00"
      },
      "outputs": [
        {
          "name": "stdout",
          "output_type": "stream",
          "text": [
            "2024-04-25:16:57:15,076 INFO     [utils.py:161] NumExpr defaulting to 2 threads.\n",
            "2024-04-25:16:57:15,355 INFO     [config.py:58] PyTorch version 2.2.1+cu121 available.\n",
            "2024-04-25:16:57:15,356 INFO     [config.py:70] Polars version 0.20.2 available.\n",
            "2024-04-25:16:57:15,357 INFO     [config.py:105] TensorFlow version 2.15.0 available.\n",
            "2024-04-25:16:57:15,358 INFO     [config.py:118] JAX version 0.4.26 available.\n",
            "2024-04-25 16:57:15.883003: E external/local_xla/xla/stream_executor/cuda/cuda_dnn.cc:9261] Unable to register cuDNN factory: Attempting to register factory for plugin cuDNN when one has already been registered\n",
            "2024-04-25 16:57:15.883049: E external/local_xla/xla/stream_executor/cuda/cuda_fft.cc:607] Unable to register cuFFT factory: Attempting to register factory for plugin cuFFT when one has already been registered\n",
            "2024-04-25 16:57:15.884352: E external/local_xla/xla/stream_executor/cuda/cuda_blas.cc:1515] Unable to register cuBLAS factory: Attempting to register factory for plugin cuBLAS when one has already been registered\n",
            "2024-04-25 16:57:16.986966: W tensorflow/compiler/tf2tensorrt/utils/py_utils.cc:38] TF-TRT Warning: Could not find TensorRT\n",
            "2024-04-25:16:57:19,861 INFO     [__main__.py:132] Verbosity set to INFO\n",
            "2024-04-25:16:57:29,713 WARNING  [__main__.py:138]  --limit SHOULD ONLY BE USED FOR TESTING.REAL METRICS SHOULD NOT BE COMPUTED USING LIMIT.\n",
            "2024-04-25:16:57:29,713 INFO     [__main__.py:143] Including path: ./\n",
            "2024-04-25:16:57:29,724 INFO     [__main__.py:205] Selected Tasks: ['toxigen']\n",
            "2024-04-25:16:57:29,725 WARNING  [evaluator.py:93] generation_kwargs specified through cli, these settings will be used over set parameters in yaml tasks.\n",
            "2024-04-25:16:57:29,791 INFO     [huggingface.py:120] Using device 'cuda'\n",
            "2024-04-25:16:57:34,351 INFO     [task.py:355] Building contexts for task on rank 0...\n",
            "2024-04-25:16:57:34,358 INFO     [evaluator.py:319] Running loglikelihood requests\n",
            "100% 20/20 [00:00<00:00, 25.90it/s]\n",
            "fatal: not a git repository (or any of the parent directories): .git\n",
            "hf (pretrained=distilbert/distilgpt2), gen_kwargs: (), limit: 10.0, num_fewshot: None, batch_size: 1\n",
            "| Tasks |Version|Filter|n-shot| Metric |Value|   |Stderr|\n",
            "|-------|-------|------|-----:|--------|----:|---|-----:|\n",
            "|toxigen|Yaml   |none  |     0|acc     |  0.7|±  |0.1528|\n",
            "|       |       |none  |     0|acc_norm|  0.4|±  |0.1633|\n",
            "\n"
          ]
        }
      ],
      "source": [
        "!lm_eval \\\n",
        "    --model hf \\\n",
        "    --model_args pretrained=distilbert/distilgpt2 \\\n",
        "    --include_path ./ \\\n",
        "    --tasks toxigen \\\n",
        "    --limit 10"
      ]
    },
    {
      "cell_type": "code",
      "execution_count": null,
      "metadata": {
        "colab": {
          "base_uri": "https://localhost:8080/"
        },
        "id": "-JF7pUZ3EuAs",
        "outputId": "2e916d51-03f0-4bcb-e1f4-602aef9517c7"
      },
      "outputs": [
        {
          "name": "stdout",
          "output_type": "stream",
          "text": [
            "2024-04-25:16:24:58,748 INFO     [utils.py:161] NumExpr defaulting to 2 threads.\n",
            "2024-04-25:16:24:59,008 INFO     [config.py:58] PyTorch version 2.2.1+cu121 available.\n",
            "2024-04-25:16:24:59,010 INFO     [config.py:70] Polars version 0.20.2 available.\n",
            "2024-04-25:16:24:59,011 INFO     [config.py:105] TensorFlow version 2.15.0 available.\n",
            "2024-04-25:16:24:59,013 INFO     [config.py:118] JAX version 0.4.26 available.\n",
            "2024-04-25 16:24:59.518343: E external/local_xla/xla/stream_executor/cuda/cuda_dnn.cc:9261] Unable to register cuDNN factory: Attempting to register factory for plugin cuDNN when one has already been registered\n",
            "2024-04-25 16:24:59.518402: E external/local_xla/xla/stream_executor/cuda/cuda_fft.cc:607] Unable to register cuFFT factory: Attempting to register factory for plugin cuFFT when one has already been registered\n",
            "2024-04-25 16:24:59.519871: E external/local_xla/xla/stream_executor/cuda/cuda_blas.cc:1515] Unable to register cuBLAS factory: Attempting to register factory for plugin cuBLAS when one has already been registered\n",
            "2024-04-25 16:25:00.711952: W tensorflow/compiler/tf2tensorrt/utils/py_utils.cc:38] TF-TRT Warning: Could not find TensorRT\n",
            "2024-04-25:16:25:03,722 INFO     [__main__.py:132] Verbosity set to INFO\n",
            "2024-04-25:16:25:13,493 WARNING  [__main__.py:138]  --limit SHOULD ONLY BE USED FOR TESTING.REAL METRICS SHOULD NOT BE COMPUTED USING LIMIT.\n",
            "2024-04-25:16:25:13,493 INFO     [__main__.py:143] Including path: ./\n",
            "2024-04-25:16:25:13,501 INFO     [__main__.py:205] Selected Tasks: ['toxigen']\n",
            "2024-04-25:16:25:13,502 WARNING  [evaluator.py:93] generation_kwargs specified through cli, these settings will be used over set parameters in yaml tasks.\n",
            "2024-04-25:16:25:13,568 INFO     [huggingface.py:120] Using device 'cuda'\n",
            "2024-04-25:16:25:19,130 INFO     [task.py:355] Building contexts for task on rank 0...\n",
            "2024-04-25:16:25:19,137 INFO     [evaluator.py:319] Running loglikelihood requests\n",
            "100% 20/20 [00:01<00:00, 11.06it/s]\n",
            "fatal: not a git repository (or any of the parent directories): .git\n",
            "hf (pretrained=EleutherAI/gpt-neo-1.3B), gen_kwargs: (), limit: 10.0, num_fewshot: None, batch_size: 1\n",
            "| Tasks |Version|Filter|n-shot| Metric |Value|   |Stderr|\n",
            "|-------|-------|------|-----:|--------|----:|---|-----:|\n",
            "|toxigen|Yaml   |none  |     0|acc     |  0.5|±  |0.1667|\n",
            "|       |       |none  |     0|acc_norm|  0.4|±  |0.1633|\n",
            "\n"
          ]
        }
      ],
      "source": [
        "!lm_eval \\\n",
        "    --model hf \\\n",
        "    --model_args pretrained=EleutherAI/gpt-neo-1.3B \\\n",
        "    --include_path ./ \\\n",
        "    --tasks toxigen \\\n",
        "    --limit 10"
      ]
    },
    {
      "cell_type": "markdown",
      "metadata": {
        "id": "XB1snwWcjSRj"
      },
      "source": [
        "And we can now run evaluation on this task, by pointing to the config file we've just created:"
      ]
    },
    {
      "cell_type": "markdown",
      "metadata": {
        "id": "MLx3U25OMpu1"
      },
      "source": [
        "**Challenge:** The two cells above perform zero-shot evaluation on the aforementioned dataset.\n",
        "\n",
        "Follow a similar approach to running both models (GPT-neo and distilgpt2) on a few-shot set-up:"
      ]
    },
    {
      "cell_type": "code",
      "execution_count": null,
      "metadata": {
        "id": "vxSbNnWmaQB3"
      },
      "outputs": [],
      "source": [
        "# !TODO: Run GPT-neo on a few-shot (5 examples) evaluation task:\n",
        "\n",
        "\n",
        "\n",
        "\n"
      ]
    },
    {
      "cell_type": "code",
      "execution_count": null,
      "metadata": {
        "id": "zxWWPE2paP3N"
      },
      "outputs": [],
      "source": [
        "# !TODO: Run distil-GPT on a few-shot (5 examples) evaluation task:\n",
        "\n",
        "\n",
        "\n",
        "\n"
      ]
    },
    {
      "cell_type": "markdown",
      "metadata": {
        "id": "q9D6uWRQjSRk"
      },
      "source": [
        "## Edit Prompt Templates Quickly\n",
        "\n",
        "The following is a yaml made to evaluate the specific subtask of `high_school_geography` from MMLU. It uses the standard prompt where the we choose the letters from the options with most likelihood as the model's prediction."
      ]
    },
    {
      "cell_type": "code",
      "execution_count": null,
      "metadata": {
        "id": "GTFvdt9kSlBG"
      },
      "outputs": [],
      "source": [
        "YAML_mmlu_geo_string = '''\n",
        "group: mmlu\n",
        "task: demo_mmlu_high_school_geography\n",
        "dataset_path: cais/mmlu\n",
        "dataset_name: high_school_geography\n",
        "description: \"The following are multiple choice questions (with answers) about high school geography.\\n\\n\"\n",
        "test_split: test\n",
        "fewshot_split: dev\n",
        "fewshot_config:\n",
        "  sampler: first_n\n",
        "output_type: multiple_choice\n",
        "doc_to_text: \"{{question.strip()}}\\nA. {{choices[0]}}\\nB. {{choices[1]}}\\nC. {{choices[2]}}\\nD. {{choices[3]}}\\nAnswer:\"\n",
        "doc_to_choice: [\"A\", \"B\", \"C\", \"D\"]\n",
        "doc_to_target: answer\n",
        "metric_list:\n",
        "  - metric: acc\n",
        "    aggregation: mean\n",
        "    higher_is_better: true\n",
        "  - metric: acc_norm\n",
        "    aggregation: mean\n",
        "    higher_is_better: true\n",
        "'''\n",
        "with open('mmlu_high_school_geography.yaml', 'w') as f:\n",
        "    f.write(YAML_mmlu_geo_string)\n"
      ]
    },
    {
      "cell_type": "code",
      "execution_count": null,
      "metadata": {
        "id": "jyKOfCsKb-xy",
        "outputId": "78a562e4-fcd0-42c7-9570-472a96c829db"
      },
      "outputs": [
        {
          "name": "stdout",
          "output_type": "stream",
          "text": [
            "2023-11-29:11:57:23,598 INFO     [utils.py:160] NumExpr defaulting to 2 threads.\n",
            "2023-11-29 11:57:24.719750: E tensorflow/compiler/xla/stream_executor/cuda/cuda_dnn.cc:9342] Unable to register cuDNN factory: Attempting to register factory for plugin cuDNN when one has already been registered\n",
            "2023-11-29 11:57:24.719806: E tensorflow/compiler/xla/stream_executor/cuda/cuda_fft.cc:609] Unable to register cuFFT factory: Attempting to register factory for plugin cuFFT when one has already been registered\n",
            "2023-11-29 11:57:24.719847: E tensorflow/compiler/xla/stream_executor/cuda/cuda_blas.cc:1518] Unable to register cuBLAS factory: Attempting to register factory for plugin cuBLAS when one has already been registered\n",
            "2023-11-29 11:57:26.656125: W tensorflow/compiler/tf2tensorrt/utils/py_utils.cc:38] TF-TRT Warning: Could not find TensorRT\n",
            "2023-11-29:11:57:31,563 INFO     [__main__.py:132] Verbosity set to INFO\n",
            "2023-11-29:11:57:40,541 WARNING  [__main__.py:138]  --limit SHOULD ONLY BE USED FOR TESTING.REAL METRICS SHOULD NOT BE COMPUTED USING LIMIT.\n",
            "2023-11-29:11:57:40,541 INFO     [__main__.py:143] Including path: ./\n",
            "2023-11-29:11:57:40,558 INFO     [__main__.py:205] Selected Tasks: ['demo_mmlu_high_school_geography']\n",
            "2023-11-29:11:57:40,559 WARNING  [evaluator.py:93] generation_kwargs specified through cli, these settings will be used over set parameters in yaml tasks.\n",
            "2023-11-29:11:57:40,589 INFO     [huggingface.py:120] Using device 'cuda'\n",
            "Downloading builder script: 100% 5.84k/5.84k [00:00<00:00, 17.7MB/s]\n",
            "Downloading metadata: 100% 106k/106k [00:00<00:00, 892kB/s] \n",
            "Downloading readme: 100% 39.7k/39.7k [00:00<00:00, 631kB/s]\n",
            "Downloading data: 100% 166M/166M [00:01<00:00, 89.0MB/s]\n",
            "Generating auxiliary_train split: 100% 99842/99842 [00:07<00:00, 12536.83 examples/s]\n",
            "Generating test split: 100% 198/198 [00:00<00:00, 1439.20 examples/s]\n",
            "Generating validation split: 100% 22/22 [00:00<00:00, 4181.76 examples/s]\n",
            "Generating dev split: 100% 5/5 [00:00<00:00, 36.25 examples/s]\n",
            "2023-11-29:11:58:09,798 INFO     [task.py:355] Building contexts for task on rank 0...\n",
            "2023-11-29:11:58:09,822 INFO     [evaluator.py:319] Running loglikelihood requests\n",
            "100% 40/40 [00:05<00:00,  7.86it/s]\n",
            "fatal: not a git repository (or any of the parent directories): .git\n",
            "hf (pretrained=EleutherAI/pythia-2.8b), gen_kwargs: (), limit: 10.0, num_fewshot: None, batch_size: 1\n",
            "|             Tasks             |Version|Filter|n-shot| Metric |Value|   |Stderr|\n",
            "|-------------------------------|-------|------|-----:|--------|----:|---|-----:|\n",
            "|demo_mmlu_high_school_geography|Yaml   |none  |     0|acc     |  0.3|±  |0.1528|\n",
            "|                               |       |none  |     0|acc_norm|  0.3|±  |0.1528|\n",
            "\n"
          ]
        }
      ],
      "source": [
        "# !accelerate launch --no_python\n",
        "!lm_eval \\\n",
        "    --model hf \\\n",
        "    --model_args pretrained=EleutherAI/pythia-2.8b \\\n",
        "    --include_path ./ \\\n",
        "    --tasks demo_mmlu_high_school_geography \\\n",
        "    --limit 10 \\\n",
        "    --output output/mmlu_high_school_geography/ \\\n",
        "    --log_samples"
      ]
    },
    {
      "cell_type": "markdown",
      "metadata": {
        "id": "NUhD2TjjjSRk"
      },
      "source": [
        "We could also evaluate this task in a different way. For example, instead of observing the loglikelihood of the letters, we can instead evaluate on the choices themselves as the continuation. This is done by simply changing `doc_to_choice` from a list of letters to the corresponding `choices` field from the HF dataset. We write `\"{{choices}}\"` so that the string field is interpreted as jinja string that acquires the list from the HF dataset directly.\n",
        "\n",
        "Another convenient feature here is since we're only modifying the `doc_to_choice` and the rest of config is the same as the task above, we can use the above configuration as a template by using `include: mmlu_high_school_geography.yaml` to load the config from that file. We'll need to add a unique task name as to not colide with the existing yaml config we're including. For this case we'll simply name this one `mmlu_high_school_geography_continuation`. `doc_to_text` is added here just for sake of clarity."
      ]
    },
    {
      "cell_type": "code",
      "execution_count": null,
      "metadata": {
        "id": "lqElwU54TaK-"
      },
      "outputs": [],
      "source": [
        "YAML_mmlu_geo_string = '''\n",
        "include: mmlu_high_school_geography.yaml\n",
        "task: demo_mmlu_high_school_geography_continuation\n",
        "doc_to_text: \"{{question.strip()}}\\nA. {{choices[0]}}\\nB. {{choices[1]}}\\nC. {{choices[2]}}\\nD. {{choices[3]}}\\nAnswer:\"\n",
        "doc_to_choice: \"{{choices}}\"\n",
        "'''\n",
        "with open('mmlu_high_school_geography_continuation.yaml', 'w') as f:\n",
        "    f.write(YAML_mmlu_geo_string)\n"
      ]
    },
    {
      "cell_type": "code",
      "execution_count": null,
      "metadata": {
        "id": "-_CVnDirdy7j",
        "outputId": "8c00fc05-00b4-45e8-e2dc-5aa8665b0270"
      },
      "outputs": [
        {
          "name": "stdout",
          "output_type": "stream",
          "text": [
            "2023-11-29:11:58:21,284 INFO     [utils.py:160] NumExpr defaulting to 2 threads.\n",
            "2023-11-29 11:58:22.850159: E tensorflow/compiler/xla/stream_executor/cuda/cuda_dnn.cc:9342] Unable to register cuDNN factory: Attempting to register factory for plugin cuDNN when one has already been registered\n",
            "2023-11-29 11:58:22.850219: E tensorflow/compiler/xla/stream_executor/cuda/cuda_fft.cc:609] Unable to register cuFFT factory: Attempting to register factory for plugin cuFFT when one has already been registered\n",
            "2023-11-29 11:58:22.850254: E tensorflow/compiler/xla/stream_executor/cuda/cuda_blas.cc:1518] Unable to register cuBLAS factory: Attempting to register factory for plugin cuBLAS when one has already been registered\n",
            "2023-11-29 11:58:24.948103: W tensorflow/compiler/tf2tensorrt/utils/py_utils.cc:38] TF-TRT Warning: Could not find TensorRT\n",
            "2023-11-29:11:58:28,460 INFO     [__main__.py:132] Verbosity set to INFO\n",
            "2023-11-29:11:58:37,935 WARNING  [__main__.py:138]  --limit SHOULD ONLY BE USED FOR TESTING.REAL METRICS SHOULD NOT BE COMPUTED USING LIMIT.\n",
            "2023-11-29:11:58:37,935 INFO     [__main__.py:143] Including path: ./\n",
            "2023-11-29:11:58:37,969 INFO     [__main__.py:205] Selected Tasks: ['demo_mmlu_high_school_geography_continuation']\n",
            "2023-11-29:11:58:37,972 WARNING  [evaluator.py:93] generation_kwargs specified through cli, these settings will be used over set parameters in yaml tasks.\n",
            "2023-11-29:11:58:38,008 INFO     [huggingface.py:120] Using device 'cuda'\n",
            "2023-11-29:11:58:59,758 INFO     [task.py:355] Building contexts for task on rank 0...\n",
            "2023-11-29:11:58:59,777 INFO     [evaluator.py:319] Running loglikelihood requests\n",
            "100% 40/40 [00:02<00:00, 16.23it/s]\n",
            "fatal: not a git repository (or any of the parent directories): .git\n",
            "hf (pretrained=EleutherAI/pythia-2.8b), gen_kwargs: (), limit: 10.0, num_fewshot: None, batch_size: 1\n",
            "|                   Tasks                    |Version|Filter|n-shot| Metric |Value|   |Stderr|\n",
            "|--------------------------------------------|-------|------|-----:|--------|----:|---|-----:|\n",
            "|demo_mmlu_high_school_geography_continuation|Yaml   |none  |     0|acc     |  0.1|±  |0.1000|\n",
            "|                                            |       |none  |     0|acc_norm|  0.2|±  |0.1333|\n",
            "\n"
          ]
        }
      ],
      "source": [
        "# !accelerate launch --no_python\n",
        "!lm_eval \\\n",
        "    --model hf \\\n",
        "    --model_args pretrained=EleutherAI/pythia-2.8b \\\n",
        "    --include_path ./ \\\n",
        "    --tasks demo_mmlu_high_school_geography_continuation \\\n",
        "    --limit 10 \\\n",
        "    --output output/mmlu_high_school_geography_continuation/ \\\n",
        "    --log_samples\n"
      ]
    },
    {
      "cell_type": "markdown",
      "metadata": {
        "id": "SVpSM_vSjSRk"
      },
      "source": [
        "If we take a look at the samples, we can see that it is in fact evaluating the continuation based on the choices rather than the letters."
      ]
    },
    {
      "cell_type": "code",
      "execution_count": null,
      "metadata": {
        "id": "duBDqC6PAdjL",
        "outputId": "3da01039-a573-4519-a2ca-06d2ed4a4991"
      },
      "outputs": [
        {
          "data": {
            "application/javascript": "\n      ((filepath) => {{\n        if (!google.colab.kernel.accessAllowed) {{\n          return;\n        }}\n        google.colab.files.view(filepath);\n      }})(\"/content/output/mmlu_high_school_geography_continuation/pretrained__EleutherAI__pythia-2.8b_demo_mmlu_high_school_geography_continuation.jsonl\")",
            "text/plain": [
              "<IPython.core.display.Javascript object>"
            ]
          },
          "metadata": {},
          "output_type": "display_data"
        }
      ],
      "source": [
        "from google.colab import files\n",
        "files.view(\"output/mmlu_high_school_geography_continuation/pretrained__EleutherAI__pythia-2.8b_demo_mmlu_high_school_geography_continuation.jsonl\")\n"
      ]
    },
    {
      "cell_type": "markdown",
      "metadata": {
        "id": "6p0-KPwAgK5j"
      },
      "source": [
        "## Closer Look at YAML Fields\n",
        "\n",
        "To prepare a task we can simply fill in a YAML config with the relevant information.\n",
        "\n",
        "`output_type`\n",
        "The current provided evaluation types comprise of the following:\n",
        "1.   `loglikelihood`: Evaluates the loglikelihood of a continuation, conditioned on some input string.\n",
        "2.   `loglikelihood_rolling`: evaluate the loglikelihood of producing a string, conditioned on the empty string. (Used for perplexity evaluations)\n",
        "3.   `multiple_choice`: Evaluates loglikelihood among the a number of choices predicted by the model.\n",
        "4.   `greedy_until`: Model outputs greedy generation (can be configured to to use beam search and other generation-related parameters)\n",
        "\n",
        "The core prompt revolves around 3 fields.\n",
        "1. `doc_to_text`: Denotes the prompt template that will be used as input to the model.\n",
        "2. `doc_to_choice`: Available choices that will be used as continuation for the model. This is used when the `output_type` is `multiple_choice`, and otherwise can be left as `None`.\n",
        "3. `doc_to_target`: When `output_type` is `multiple_choice`, this can be an index that corresponds to the correct answer, or the answer string itself (must be a subset of `doc_to_choice`). For other tasks, this is expected to be a string. You can fill this field with a feature name from the HF dataset so long as the resulting feature follows the conditioned described.\n",
        "\n",
        "These three fields can be expressed as strings, column names from the source dataset, or as Jinja2 templates that can use fields from the source dataset as variables.\n"
      ]
    },
    {
      "cell_type": "markdown",
      "metadata": {
        "id": "bc9DAshHjSRl"
      },
      "source": [
        "## What if Jinja is not Sufficient?\n",
        "\n",
        "There can be times where the Jinja2 templating language is not enough to make the prompt we had in mind. There are a few ways to circumvent this limitation:\n",
        "\n",
        "1. Use `!function` operator for the prompt-related fields to pass a python function that takes as input the dataset row, and will output the prompt template component.\n",
        "2. Perform a transformation on the dataset beforehand."
      ]
    },
    {
      "cell_type": "markdown",
      "metadata": {
        "id": "cDIJi4yijSRl"
      },
      "source": [
        "Below, we show an example of using `!function` to create `doc_to_text` from a python function:"
      ]
    },
    {
      "cell_type": "code",
      "execution_count": null,
      "metadata": {
        "colab": {
          "base_uri": "https://localhost:8080/"
        },
        "id": "DYZ5c0JhR1lJ",
        "outputId": "ca945235-fb9e-4f17-8bfa-78e7d6ec1490"
      },
      "outputs": [
        {
          "name": "stdout",
          "output_type": "stream",
          "text": [
            "2023-11-29:11:59:08,312 INFO     [utils.py:160] NumExpr defaulting to 2 threads.\n",
            "2023-11-29 11:59:09.348327: E tensorflow/compiler/xla/stream_executor/cuda/cuda_dnn.cc:9342] Unable to register cuDNN factory: Attempting to register factory for plugin cuDNN when one has already been registered\n",
            "2023-11-29 11:59:09.348387: E tensorflow/compiler/xla/stream_executor/cuda/cuda_fft.cc:609] Unable to register cuFFT factory: Attempting to register factory for plugin cuFFT when one has already been registered\n",
            "2023-11-29 11:59:09.348421: E tensorflow/compiler/xla/stream_executor/cuda/cuda_blas.cc:1518] Unable to register cuBLAS factory: Attempting to register factory for plugin cuBLAS when one has already been registered\n",
            "2023-11-29 11:59:10.573752: W tensorflow/compiler/tf2tensorrt/utils/py_utils.cc:38] TF-TRT Warning: Could not find TensorRT\n",
            "2023-11-29:11:59:14,044 INFO     [__main__.py:132] Verbosity set to INFO\n",
            "2023-11-29:11:59:23,654 WARNING  [__main__.py:138]  --limit SHOULD ONLY BE USED FOR TESTING.REAL METRICS SHOULD NOT BE COMPUTED USING LIMIT.\n",
            "2023-11-29:11:59:23,654 INFO     [__main__.py:143] Including path: ./\n",
            "2023-11-29:11:59:23,678 INFO     [__main__.py:205] Selected Tasks: ['demo_mmlu_high_school_geography_function_prompt']\n",
            "2023-11-29:11:59:23,679 WARNING  [evaluator.py:93] generation_kwargs specified through cli, these settings will be used over set parameters in yaml tasks.\n",
            "2023-11-29:11:59:23,708 INFO     [huggingface.py:120] Using device 'cuda'\n",
            "2023-11-29:11:59:44,516 INFO     [task.py:355] Building contexts for task on rank 0...\n",
            "2023-11-29:11:59:44,524 INFO     [evaluator.py:319] Running loglikelihood requests\n",
            "100% 40/40 [00:02<00:00, 15.41it/s]\n",
            "fatal: not a git repository (or any of the parent directories): .git\n",
            "hf (pretrained=EleutherAI/pythia-2.8b), gen_kwargs: (), limit: 10.0, num_fewshot: None, batch_size: 1\n",
            "|                     Tasks                     |Version|Filter|n-shot| Metric |Value|   |Stderr|\n",
            "|-----------------------------------------------|-------|------|-----:|--------|----:|---|-----:|\n",
            "|demo_mmlu_high_school_geography_function_prompt|Yaml   |none  |     0|acc     |  0.1|±  |0.1000|\n",
            "|                                               |       |none  |     0|acc_norm|  0.2|±  |0.1333|\n",
            "\n"
          ]
        }
      ],
      "source": [
        "YAML_mmlu_geo_string = '''\n",
        "include: mmlu_high_school_geography.yaml\n",
        "task: demo_mmlu_high_school_geography_function_prompt\n",
        "doc_to_text: !function utils.doc_to_text\n",
        "doc_to_choice: \"{{choices}}\"\n",
        "'''\n",
        "with open('demo_mmlu_high_school_geography_function_prompt.yaml', 'w') as f:\n",
        "    f.write(YAML_mmlu_geo_string)\n",
        "\n",
        "DOC_TO_TEXT = '''\n",
        "def doc_to_text(x):\n",
        "    question = x[\"question\"].strip()\n",
        "    choices = x[\"choices\"]\n",
        "    option_a = choices[0]\n",
        "    option_b = choices[1]\n",
        "    option_c = choices[2]\n",
        "    option_d = choices[3]\n",
        "    return f\"{question}\\\\nA. {option_a}\\\\nB. {option_b}\\\\nC. {option_c}\\\\nD. {option_d}\\\\nAnswer:\"\n",
        "'''\n",
        "with open('utils.py', 'w') as f:\n",
        "    f.write(DOC_TO_TEXT)\n",
        "\n",
        "!lm_eval \\\n",
        "    --model hf \\\n",
        "    --model_args pretrained=EleutherAI/pythia-2.8b \\\n",
        "    --include_path ./ \\\n",
        "    --tasks demo_mmlu_high_school_geography_function_prompt \\\n",
        "    --limit 10 \\\n",
        "    --output output/demo_mmlu_high_school_geography_function_prompt/ \\\n",
        "    --log_samples\n"
      ]
    },
    {
      "cell_type": "markdown",
      "metadata": {
        "id": "YUiHeJRijSRl"
      },
      "source": [
        "Next, we'll also show how to do this via preprocessing the dataset as necessary using the `process_docs` config field:\n",
        "\n",
        "We will write a function that will modify each document in our evaluation dataset's split to add a field that is suitable for us to use in `doc_to_text`."
      ]
    },
    {
      "cell_type": "code",
      "execution_count": null,
      "metadata": {
        "id": "iegEQrp0jSRl"
      },
      "outputs": [],
      "source": [
        "YAML_mmlu_geo_string = '''\n",
        "include: mmlu_high_school_geography.yaml\n",
        "task: demo_mmlu_high_school_geography_function_prompt_2\n",
        "process_docs: !function utils_process_docs.process_docs\n",
        "doc_to_text: \"{{input}}\"\n",
        "doc_to_choice: \"{{choices}}\"\n",
        "'''\n",
        "with open('demo_mmlu_high_school_geography_process_docs.yaml', 'w') as f:\n",
        "    f.write(YAML_mmlu_geo_string)\n",
        "\n",
        "DOC_TO_TEXT = '''\n",
        "def process_docs(dataset):\n",
        "    def _process_doc(x):\n",
        "        question = x[\"question\"].strip()\n",
        "        choices = x[\"choices\"]\n",
        "        option_a = choices[0]\n",
        "        option_b = choices[1]\n",
        "        option_c = choices[2]\n",
        "        option_d = choices[3]\n",
        "        doc[\"input\"] = f\"{question}\\\\nA. {option_a}\\\\nB. {option_b}\\\\nC. {option_c}\\\\nD. {option_d}\\\\nAnswer:\"\n",
        "        return out_doc\n",
        "\n",
        "    return dataset.map(_process_doc)\n",
        "'''\n",
        "\n",
        "with open('utils_process_docs.py', 'w') as f:\n",
        "    f.write(DOC_TO_TEXT)\n",
        "\n",
        "!lm_eval \\\n",
        "    --model hf \\\n",
        "    --model_args pretrained=EleutherAI/pythia-2.8b \\\n",
        "    --include_path ./ \\\n",
        "    --tasks demo_mmlu_high_school_geography_function_prompt_2 \\\n",
        "    --limit 10 \\\n",
        "    --output output/demo_mmlu_high_school_geography_function_prompt_2/ \\\n",
        "    --log_samples\n"
      ]
    },
    {
      "cell_type": "markdown",
      "metadata": {
        "id": "D7WobNoYjSRl"
      },
      "source": [
        "**Challenge:** The wino bias dataset contains a collection of occupation-related sentences with missing pronouns. A model would have to predict which pronoun (him or her) would be the biased and non-biased options (for more information on the dataset visit https://huggingface.co/datasets/sasha/wino_bias_prompt2).\n",
        "\n",
        "However, this dataset requires of pre-procesing prior to being used in conjunction the LLM-eval harness. Use the techniques learned above to do so."
      ]
    },
    {
      "cell_type": "code",
      "execution_count": null,
      "metadata": {
        "id": "aDGXvVvEJm1J"
      },
      "outputs": [],
      "source": [
        "YAML_winobias_string = '''\n",
        "task: wino_bias\n",
        "dataset_path: sasha/wino_bias_prompt2\n",
        "output_type: multiple_choice\n",
        "validation_split: validation\n",
        "test_split: test\n",
        "doc_to_text: \"Statement: {{prompt_phrase}}\"\n",
        "doc_to_choice: ['anti_bias_pronoun', 'bias_pronoun']\n",
        "'''\n",
        "with open('wino-bias.yaml', 'w') as f:\n",
        "    f.write(YAML_winobias_string)"
      ]
    },
    {
      "cell_type": "code",
      "execution_count": null,
      "metadata": {
        "id": "64Bz1nuuMO4T"
      },
      "outputs": [],
      "source": [
        "# !TODO: pre-process the wino_bias dataset using the techniques shown above:\n",
        "\n",
        "\n"
      ]
    },
    {
      "cell_type": "markdown",
      "metadata": {
        "id": "J3t_Hs4GJqdO"
      },
      "source": [
        "Once you have successfully pre-processed the wino bias dataset, you can run evaluation on the model of your choice by running the code below .We are using the same two architectures as an example but feel free to explore other options!"
      ]
    },
    {
      "cell_type": "code",
      "execution_count": null,
      "metadata": {
        "id": "QpA_8i5kJoft"
      },
      "outputs": [],
      "source": [
        "!lm_eval \\\n",
        "    --model hf \\\n",
        "    --model_args pretrained=EleutherAI/gpt-neo-1.3B \\\n",
        "    --include_path ./ \\\n",
        "    --tasks wino_bias \\\n",
        "    --limit 10"
      ]
    },
    {
      "cell_type": "code",
      "execution_count": null,
      "metadata": {
        "id": "3CFWvjjPLbx1"
      },
      "outputs": [],
      "source": [
        "!lm_eval \\\n",
        "    --model hf \\\n",
        "    --model_args pretrained=distilbert/distilgpt2 \\\n",
        "    --include_path ./ \\\n",
        "    --tasks wino_bias_prompt \\\n",
        "    --limit 10"
      ]
    }
  ],
  "metadata": {
    "accelerator": "GPU",
    "colab": {
      "gpuType": "T4",
      "provenance": []
    },
    "kernelspec": {
      "display_name": "Python 3",
      "name": "python3"
    },
    "language_info": {
      "name": "python",
      "version": "0.0.0"
    },
    "widgets": {
      "application/vnd.jupyter.widget-state+json": {
        "33ff680f6c1846738f1c41da90b75196": {
          "model_module": "@jupyter-widgets/controls",
          "model_module_version": "1.5.0",
          "model_name": "HTMLModel",
          "state": {
            "_dom_classes": [],
            "_model_module": "@jupyter-widgets/controls",
            "_model_module_version": "1.5.0",
            "_model_name": "HTMLModel",
            "_view_count": null,
            "_view_module": "@jupyter-widgets/controls",
            "_view_module_version": "1.5.0",
            "_view_name": "HTMLView",
            "description": "",
            "description_tooltip": null,
            "layout": "IPY_MODEL_ecc0ad79d7a64e7faf00ba24db3a1d30",
            "placeholder": "​",
            "style": "IPY_MODEL_adcd2a35b6a0476ca57f8aa77b669e58",
            "value": " 5.67k/5.67k [00:00&lt;00:00, 362kB/s]"
          }
        },
        "3f1b1c1f3b154c0a90bb8eb424d7d5a2": {
          "model_module": "@jupyter-widgets/base",
          "model_module_version": "1.2.0",
          "model_name": "LayoutModel",
          "state": {
            "_model_module": "@jupyter-widgets/base",
            "_model_module_version": "1.2.0",
            "_model_name": "LayoutModel",
            "_view_count": null,
            "_view_module": "@jupyter-widgets/base",
            "_view_module_version": "1.2.0",
            "_view_name": "LayoutView",
            "align_content": null,
            "align_items": null,
            "align_self": null,
            "border": null,
            "bottom": null,
            "display": null,
            "flex": null,
            "flex_flow": null,
            "grid_area": null,
            "grid_auto_columns": null,
            "grid_auto_flow": null,
            "grid_auto_rows": null,
            "grid_column": null,
            "grid_gap": null,
            "grid_row": null,
            "grid_template_areas": null,
            "grid_template_columns": null,
            "grid_template_rows": null,
            "height": null,
            "justify_content": null,
            "justify_items": null,
            "left": null,
            "margin": null,
            "max_height": null,
            "max_width": null,
            "min_height": null,
            "min_width": null,
            "object_fit": null,
            "object_position": null,
            "order": null,
            "overflow": null,
            "overflow_x": null,
            "overflow_y": null,
            "padding": null,
            "right": null,
            "top": null,
            "visibility": null,
            "width": null
          }
        },
        "52c9094cf6354893a45e0fc425b2e18d": {
          "model_module": "@jupyter-widgets/controls",
          "model_module_version": "1.5.0",
          "model_name": "DescriptionStyleModel",
          "state": {
            "_model_module": "@jupyter-widgets/controls",
            "_model_module_version": "1.5.0",
            "_model_name": "DescriptionStyleModel",
            "_view_count": null,
            "_view_module": "@jupyter-widgets/base",
            "_view_module_version": "1.2.0",
            "_view_name": "StyleView",
            "description_width": ""
          }
        },
        "5c730edb26204755bf63c3131fa0ab06": {
          "model_module": "@jupyter-widgets/controls",
          "model_module_version": "1.5.0",
          "model_name": "HTMLModel",
          "state": {
            "_dom_classes": [],
            "_model_module": "@jupyter-widgets/controls",
            "_model_module_version": "1.5.0",
            "_model_name": "HTMLModel",
            "_view_count": null,
            "_view_module": "@jupyter-widgets/controls",
            "_view_module_version": "1.5.0",
            "_view_name": "HTMLView",
            "description": "",
            "description_tooltip": null,
            "layout": "IPY_MODEL_9a5e691f8afb4c8db6a43755fc288139",
            "placeholder": "​",
            "style": "IPY_MODEL_52c9094cf6354893a45e0fc425b2e18d",
            "value": "Downloading builder script: 100%"
          }
        },
        "76ea57b3b3944cb1b32ea591aa6495fb": {
          "model_module": "@jupyter-widgets/base",
          "model_module_version": "1.2.0",
          "model_name": "LayoutModel",
          "state": {
            "_model_module": "@jupyter-widgets/base",
            "_model_module_version": "1.2.0",
            "_model_name": "LayoutModel",
            "_view_count": null,
            "_view_module": "@jupyter-widgets/base",
            "_view_module_version": "1.2.0",
            "_view_name": "LayoutView",
            "align_content": null,
            "align_items": null,
            "align_self": null,
            "border": null,
            "bottom": null,
            "display": null,
            "flex": null,
            "flex_flow": null,
            "grid_area": null,
            "grid_auto_columns": null,
            "grid_auto_flow": null,
            "grid_auto_rows": null,
            "grid_column": null,
            "grid_gap": null,
            "grid_row": null,
            "grid_template_areas": null,
            "grid_template_columns": null,
            "grid_template_rows": null,
            "height": null,
            "justify_content": null,
            "justify_items": null,
            "left": null,
            "margin": null,
            "max_height": null,
            "max_width": null,
            "min_height": null,
            "min_width": null,
            "object_fit": null,
            "object_position": null,
            "order": null,
            "overflow": null,
            "overflow_x": null,
            "overflow_y": null,
            "padding": null,
            "right": null,
            "top": null,
            "visibility": null,
            "width": null
          }
        },
        "9a5e691f8afb4c8db6a43755fc288139": {
          "model_module": "@jupyter-widgets/base",
          "model_module_version": "1.2.0",
          "model_name": "LayoutModel",
          "state": {
            "_model_module": "@jupyter-widgets/base",
            "_model_module_version": "1.2.0",
            "_model_name": "LayoutModel",
            "_view_count": null,
            "_view_module": "@jupyter-widgets/base",
            "_view_module_version": "1.2.0",
            "_view_name": "LayoutView",
            "align_content": null,
            "align_items": null,
            "align_self": null,
            "border": null,
            "bottom": null,
            "display": null,
            "flex": null,
            "flex_flow": null,
            "grid_area": null,
            "grid_auto_columns": null,
            "grid_auto_flow": null,
            "grid_auto_rows": null,
            "grid_column": null,
            "grid_gap": null,
            "grid_row": null,
            "grid_template_areas": null,
            "grid_template_columns": null,
            "grid_template_rows": null,
            "height": null,
            "justify_content": null,
            "justify_items": null,
            "left": null,
            "margin": null,
            "max_height": null,
            "max_width": null,
            "min_height": null,
            "min_width": null,
            "object_fit": null,
            "object_position": null,
            "order": null,
            "overflow": null,
            "overflow_x": null,
            "overflow_y": null,
            "padding": null,
            "right": null,
            "top": null,
            "visibility": null,
            "width": null
          }
        },
        "a8156a84036845ff8d5fd34818ed1bb2": {
          "model_module": "@jupyter-widgets/controls",
          "model_module_version": "1.5.0",
          "model_name": "ProgressStyleModel",
          "state": {
            "_model_module": "@jupyter-widgets/controls",
            "_model_module_version": "1.5.0",
            "_model_name": "ProgressStyleModel",
            "_view_count": null,
            "_view_module": "@jupyter-widgets/base",
            "_view_module_version": "1.2.0",
            "_view_name": "StyleView",
            "bar_color": null,
            "description_width": ""
          }
        },
        "adcd2a35b6a0476ca57f8aa77b669e58": {
          "model_module": "@jupyter-widgets/controls",
          "model_module_version": "1.5.0",
          "model_name": "DescriptionStyleModel",
          "state": {
            "_model_module": "@jupyter-widgets/controls",
            "_model_module_version": "1.5.0",
            "_model_name": "DescriptionStyleModel",
            "_view_count": null,
            "_view_module": "@jupyter-widgets/base",
            "_view_module_version": "1.2.0",
            "_view_name": "StyleView",
            "description_width": ""
          }
        },
        "bfd5889eb1f5417b8d4821fe35e1d3c1": {
          "model_module": "@jupyter-widgets/controls",
          "model_module_version": "1.5.0",
          "model_name": "HBoxModel",
          "state": {
            "_dom_classes": [],
            "_model_module": "@jupyter-widgets/controls",
            "_model_module_version": "1.5.0",
            "_model_name": "HBoxModel",
            "_view_count": null,
            "_view_module": "@jupyter-widgets/controls",
            "_view_module_version": "1.5.0",
            "_view_name": "HBoxView",
            "box_style": "",
            "children": [
              "IPY_MODEL_5c730edb26204755bf63c3131fa0ab06",
              "IPY_MODEL_c998e23e1e0a47b0ae436b673325be51",
              "IPY_MODEL_33ff680f6c1846738f1c41da90b75196"
            ],
            "layout": "IPY_MODEL_3f1b1c1f3b154c0a90bb8eb424d7d5a2"
          }
        },
        "c998e23e1e0a47b0ae436b673325be51": {
          "model_module": "@jupyter-widgets/controls",
          "model_module_version": "1.5.0",
          "model_name": "FloatProgressModel",
          "state": {
            "_dom_classes": [],
            "_model_module": "@jupyter-widgets/controls",
            "_model_module_version": "1.5.0",
            "_model_name": "FloatProgressModel",
            "_view_count": null,
            "_view_module": "@jupyter-widgets/controls",
            "_view_module_version": "1.5.0",
            "_view_name": "ProgressView",
            "bar_style": "success",
            "description": "",
            "description_tooltip": null,
            "layout": "IPY_MODEL_76ea57b3b3944cb1b32ea591aa6495fb",
            "max": 5669,
            "min": 0,
            "orientation": "horizontal",
            "style": "IPY_MODEL_a8156a84036845ff8d5fd34818ed1bb2",
            "value": 5669
          }
        },
        "ecc0ad79d7a64e7faf00ba24db3a1d30": {
          "model_module": "@jupyter-widgets/base",
          "model_module_version": "1.2.0",
          "model_name": "LayoutModel",
          "state": {
            "_model_module": "@jupyter-widgets/base",
            "_model_module_version": "1.2.0",
            "_model_name": "LayoutModel",
            "_view_count": null,
            "_view_module": "@jupyter-widgets/base",
            "_view_module_version": "1.2.0",
            "_view_name": "LayoutView",
            "align_content": null,
            "align_items": null,
            "align_self": null,
            "border": null,
            "bottom": null,
            "display": null,
            "flex": null,
            "flex_flow": null,
            "grid_area": null,
            "grid_auto_columns": null,
            "grid_auto_flow": null,
            "grid_auto_rows": null,
            "grid_column": null,
            "grid_gap": null,
            "grid_row": null,
            "grid_template_areas": null,
            "grid_template_columns": null,
            "grid_template_rows": null,
            "height": null,
            "justify_content": null,
            "justify_items": null,
            "left": null,
            "margin": null,
            "max_height": null,
            "max_width": null,
            "min_height": null,
            "min_width": null,
            "object_fit": null,
            "object_position": null,
            "order": null,
            "overflow": null,
            "overflow_x": null,
            "overflow_y": null,
            "padding": null,
            "right": null,
            "top": null,
            "visibility": null,
            "width": null
          }
        }
      }
    }
  },
  "nbformat": 4,
  "nbformat_minor": 0
}
